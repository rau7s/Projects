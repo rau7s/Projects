{
  "nbformat": 4,
  "nbformat_minor": 0,
  "metadata": {
    "colab": {
      "provenance": [],
      "authorship_tag": "ABX9TyPaA26tSEHgj5BOGkD5jc8s",
      "include_colab_link": true
    },
    "kernelspec": {
      "name": "python3",
      "display_name": "Python 3"
    },
    "language_info": {
      "name": "python"
    }
  },
  "cells": [
    {
      "cell_type": "markdown",
      "metadata": {
        "id": "view-in-github",
        "colab_type": "text"
      },
      "source": [
        "<a href=\"https://colab.research.google.com/github/rau7s/Projects/blob/main/Aula_python.ipynb\" target=\"_parent\"><img src=\"https://colab.research.google.com/assets/colab-badge.svg\" alt=\"Open In Colab\"/></a>"
      ]
    },
    {
      "cell_type": "markdown",
      "source": [
        "\n",
        "\n",
        "# Utilizando a função print()\n",
        "\n",
        "Quando queremos que o computador nos  mostre na tela o que queremos, usamos o *print()*\n",
        "\n",
        "Por exemplo, se escrevermos print(\"Olá mundo!\"), o computador irá mostrar na tela a mensagem \"Olá mundo!\".\n",
        "\n",
        "É como se estivéssemos **pedindo ao computador para falar algo para nós**."
      ],
      "metadata": {
        "id": "ddvs1wP8iONU"
      }
    },
    {
      "cell_type": "code",
      "source": [
        "# Exemplo de print\n",
        "print(\"Olá mundo!\") # As aspas delimitam uma string, que é o texto que queremos mostrar.\n",
        "\n",
        "# String são sequência de caracteres, dentro das aspas duplas\n",
        "print(\"Hello :)\")"
      ],
      "metadata": {
        "id": "Y7UhcI5khTHI",
        "colab": {
          "base_uri": "https://localhost:8080/"
        },
        "outputId": "57bf974c-1143-470c-b02f-bf08d079a386"
      },
      "execution_count": 2,
      "outputs": [
        {
          "output_type": "stream",
          "name": "stdout",
          "text": [
            "Olá mundo!\n",
            "Hello :)\n"
          ]
        }
      ]
    },
    {
      "cell_type": "markdown",
      "source": [
        "Adicionar o símbolo **#** na frente do texto permite fazer **comentários** no código.\n",
        "\n",
        "O computador ignorará seus comentários(não irá imprimir).\n",
        "\n",
        "Podem ser usados para explicar o código para o próximo que for trabalhar nele, deixar uma anotação, etc.\n",
        "\n",
        "\n"
      ],
      "metadata": {
        "id": "E0M9iAKLiXrJ"
      }
    },
    {
      "cell_type": "code",
      "source": [
        "# Isto é um comentário\n",
        "print(\"Isto é código\")"
      ],
      "metadata": {
        "id": "Dmdl0ZK-V9iF",
        "colab": {
          "base_uri": "https://localhost:8080/"
        },
        "outputId": "f13d8c35-a824-4948-861f-218b650e14e7"
      },
      "execution_count": 3,
      "outputs": [
        {
          "output_type": "stream",
          "name": "stdout",
          "text": [
            "Isto é código\n"
          ]
        }
      ]
    },
    {
      "cell_type": "markdown",
      "source": [
        "# Prestar atençar nas cores\n",
        "Ao digitar o código, observe as cores e sinais de erro. td importa\n",
        "\n",
        "Por exemplo, se faltar uma aspas ou um parêntese, o código será destacado com uma cor diferente, indicando um erro.\n",
        "\n"
      ],
      "metadata": {
        "id": "CjPahXoliXn5"
      }
    },
    {
      "cell_type": "code",
      "source": [
        "print(\"O que você quiser escrever)  # Veja que aqui o comentário está vermelho\n"
      ],
      "metadata": {
        "colab": {
          "base_uri": "https://localhost:8080/",
          "height": 106
        },
        "id": "o_c4v_-GjMzv",
        "outputId": "c2645c3a-b294-41dd-8c2d-e7de55f3269e"
      },
      "execution_count": 4,
      "outputs": [
        {
          "output_type": "error",
          "ename": "SyntaxError",
          "evalue": "unterminated string literal (detected at line 1) (<ipython-input-4-614b5831dccd>, line 1)",
          "traceback": [
            "\u001b[0;36m  File \u001b[0;32m\"<ipython-input-4-614b5831dccd>\"\u001b[0;36m, line \u001b[0;32m1\u001b[0m\n\u001b[0;31m    print(\"O que você quiser escrever)  # Veja que aqui o comentário está vermelho\u001b[0m\n\u001b[0m          ^\u001b[0m\n\u001b[0;31mSyntaxError\u001b[0m\u001b[0;31m:\u001b[0m unterminated string literal (detected at line 1)\n"
          ]
        }
      ]
    },
    {
      "cell_type": "markdown",
      "source": [
        "Essa mensagem de erro ***(SyntaxError)*** se pesquisarmos no Google com certeza encontraremos  as soluções de problemas comuns, como a de cima."
      ],
      "metadata": {
        "id": "cgY61jZhH29N"
      }
    },
    {
      "cell_type": "markdown",
      "source": [
        "# Exercício\n",
        "**Imprimir a seguinte lista de compras:**\n",
        "\n",
        "Vou comprar maçã, banana e laranja.\n",
        "\n",
        "Depois de ir ao mercado, vou passar na padaria\n"
      ],
      "metadata": {
        "id": "ObCmR14LjeTF"
      }
    },
    {
      "cell_type": "code",
      "source": [
        "# Lista de compras:\n",
        "\n",
        "\n"
      ],
      "metadata": {
        "id": "eRWkOS2Aj635"
      },
      "execution_count": null,
      "outputs": []
    },
    {
      "cell_type": "markdown",
      "source": [
        "# Variáveis\n",
        "\n",
        "Serve para **Armazenar dados.**\n",
        "\n",
        "Como o rótulo de uma caixa, dizendo o que está dentro da caixa.\n",
        "\n",
        "1. **Escolhendo um Nome**: Primeiro, escolhemos um nome para nossa variável (não pode conter espaços!).\n",
        "2. **Atribuindo um Valor**: Em seguida, atribuímos um valor à variável.\n"
      ],
      "metadata": {
        "id": "FVIHJ81QwCfb"
      }
    },
    {
      "cell_type": "code",
      "source": [
        "# Exemplo 1\n",
        "# 1º Passo: Criar uma variável para armazenar um dado\n",
        "idade = 10  # Criamos a variável 'idade' e demos o valor 10\n",
        "# Aqui, 'idade' é o nome da variável e 10 é o valor atribuído a ela\n",
        "cor = \"verde\" # Criamos a variável 'cor' e demos o valor \"verde\" para ela\n",
        "print(idade)\n",
        "print(cor)\n",
        "# Saída: 10\n",
        "# verde\n",
        "\n",
        "\n",
        "# Exemplo 2\n",
        "# 1º Passo: Vamos definir uma variável para representar o total de dinheiro no caixa\n",
        "dinheiro_total = 50  # Criamos a variável e demos o valor de 50l\n",
        "\n",
        "# 2º Passo: Agora vamos printar o total de dinheiro na tela\n",
        "print(\"Total de dinheiro na caixa: R$\", dinheiro_total) # Aqui, estamos chamando a variável dinheiro_total para obter o valor que ela armazena.\n",
        "# O valor de da variavel será inserido na posição onde dinheiro_total é referenciado.\n"
      ],
      "metadata": {
        "id": "2E3VGy9HwBk3",
        "colab": {
          "base_uri": "https://localhost:8080/"
        },
        "outputId": "a7d2ce04-d41c-4206-e904-21bf113a7749"
      },
      "execution_count": 13,
      "outputs": [
        {
          "output_type": "stream",
          "name": "stdout",
          "text": [
            "10\n",
            "verde\n",
            "Total de dinheiro na caixa: R$ 50\n"
          ]
        }
      ]
    },
    {
      "cell_type": "markdown",
      "source": [
        "# Input\n",
        "\n",
        "Utilizamos função *input()* para **guardar uma resposta**\n",
        "\n",
        "Ela imprime uma string no console e **solicita** ao usuário uma resposta.\n",
        "\n",
        "\n"
      ],
      "metadata": {
        "id": "O-rfaZI2j6CP"
      }
    },
    {
      "cell_type": "code",
      "source": [
        "name = input(\"Qual seu nome? \") # Criamos a variavel name e armazenaos a resposta do usuário\n",
        "\n",
        "# Vamos printar a resposta na tela\n",
        "print(name)"
      ],
      "metadata": {
        "colab": {
          "base_uri": "https://localhost:8080/"
        },
        "id": "wZLU2aliirYQ",
        "outputId": "4ff2ab28-c270-4b55-8aa6-654141922258"
      },
      "execution_count": 5,
      "outputs": [
        {
          "output_type": "stream",
          "name": "stdout",
          "text": [
            "Qual seu nome? José\n",
            "José\n"
          ]
        }
      ]
    },
    {
      "cell_type": "markdown",
      "source": [
        "É boa prática atribuir um **nome significativo** à variável que vai guardar essa resposta"
      ],
      "metadata": {
        "id": "8Mbrz3bPu9AK"
      }
    },
    {
      "cell_type": "markdown",
      "source": [
        "# f-string\n",
        "\n",
        "As **f-strings** permitem inserir variáveis diretamente em uma string (no texto)\n",
        "\n",
        "É simples, basta inserir o nome da variável em questão, dentre um conjunto de chaves {}\n"
      ],
      "metadata": {
        "id": "NsE1s27qiXf2"
      }
    },
    {
      "cell_type": "code",
      "source": [
        "# Criando a variável 'name' para armazenar a resposta do usuário\n",
        "# pedindo que ele digite seu nome.\n",
        "name = input(\"Qual é o seu nome? \")\n",
        "\n",
        "# Dentro das chaves {}, 'name' será substituído pela resposta que o usuário inseriu.\n",
        "# O 'f' antes das aspas indica que esta é uma f-string.\n",
        "print(f\"Olá {name}, como você está?\")\n"
      ],
      "metadata": {
        "colab": {
          "base_uri": "https://localhost:8080/"
        },
        "id": "N-3KWusTktZB",
        "outputId": "56e98c4e-4258-4a9a-d277-fa88bdd7a139"
      },
      "execution_count": 6,
      "outputs": [
        {
          "output_type": "stream",
          "name": "stdout",
          "text": [
            "Qual é o seu nome? Helio\n",
            "Olá Helio, como você está?\n"
          ]
        }
      ]
    },
    {
      "cell_type": "markdown",
      "source": [
        "# Exercício\n",
        "\n",
        "Instruções:\n",
        "\n",
        "Solicite ao usuário o nome da cidade onde cresceu.\n",
        "\n",
        "Pergunte ao usuário o nome de seu animal de estimação.\n",
        "\n",
        "Combine o nome da cidade e o nome do animal de estimação para formar o nome da banda.\n",
        "\n",
        "Mostre ao usuário o nome da banda gerado a partir das informações fornecidas."
      ],
      "metadata": {
        "id": "4h6ptrYM4R3K"
      }
    },
    {
      "cell_type": "code",
      "source": [],
      "metadata": {
        "id": "5YOyaP8L-MYS"
      },
      "execution_count": null,
      "outputs": []
    },
    {
      "cell_type": "markdown",
      "source": [
        "# Resolução"
      ],
      "metadata": {
        "id": "m31rwUnU-MvI"
      }
    },
    {
      "cell_type": "code",
      "source": [
        "# Criando uma saudação para o seu programa.\n",
        "print(\"Bem-vindo ao Gerador de Nomes de Bandas.\")\n",
        "\n",
        "# Solicitando ao usuário o nome da cidade onde cresceu e armazena na variável 'cidade'\n",
        "cidade = input(\"Qual é o nome da cidade onde você cresceu? \")\n",
        "\n",
        "# Solicita ao usuário o nome do seu animal de estimação e armazena na variável 'pet'\n",
        "pet = input(\"Qual é o nome do seu animal de estimação? \")\n",
        "\n",
        "# Combinar o nome da cidade com o nome do animal de estimação para formar o nome da banda\n",
        "print(f\"O nome da sua banda poderia ser: {cidade} {pet}\")"
      ],
      "metadata": {
        "colab": {
          "base_uri": "https://localhost:8080/"
        },
        "id": "szE7g_GP4Rnk",
        "outputId": "3de95574-4e60-4087-f7b8-6202556edfea"
      },
      "execution_count": 8,
      "outputs": [
        {
          "output_type": "stream",
          "name": "stdout",
          "text": [
            "Bem-vindo ao Gerador de Nomes de Bandas.\n",
            "Qual é o nome da cidade onde você cresceu? Ilha Bela\n",
            "Qual é o nome do seu animal de estimação? Luby\n",
            "O nome da sua banda poderia ser: Ilha Bela Luby\n"
          ]
        }
      ]
    },
    {
      "cell_type": "markdown",
      "source": [
        "# Tipos de Dados"
      ],
      "metadata": {
        "id": "cMz5JRWeiXSK"
      }
    },
    {
      "cell_type": "code",
      "source": [
        "# Além da String que já vimos.\n",
        "\n",
        "# Integer: Números inteiros\n",
        "print(123456)\n",
        "\n",
        "# Float: Números com casas decimais\n",
        "print(3.14)"
      ],
      "metadata": {
        "id": "i_O85_z3lPYl",
        "colab": {
          "base_uri": "https://localhost:8080/"
        },
        "outputId": "c3244272-2437-4c32-a298-bedf14f5d9f0"
      },
      "execution_count": 9,
      "outputs": [
        {
          "output_type": "stream",
          "name": "stdout",
          "text": [
            "123456\n",
            "3.14\n"
          ]
        }
      ]
    },
    {
      "cell_type": "markdown",
      "source": [
        "# Matematica em Python\n",
        "\n",
        "Temos matemática emm Python sim 🥲\n",
        "\n",
        "As operações matemáticas seguem uma **ordem de preferência**, assim como na vida real.\n",
        "\n"
      ],
      "metadata": {
        "id": "55nP0JAEmLTU"
      }
    },
    {
      "cell_type": "code",
      "source": [
        "# Demonstração da ordem de preferência das operações matemáticas.\n",
        "\n",
        "# Parênteses ()\n",
        "# Multiplicação * e Divisão /\n",
        "# Adição + e Subtração -\n",
        "\n",
        "# Exemplo de ordem de operações\n",
        "resultado = 5 + 3 * 2 # Primeiro será a * depois a +\n",
        "print(resultado)  # Saída: 11\n",
        "\n",
        "\n",
        "# Para arredondar, usamos a função round\n",
        "numero = 10.6789  # Criamos a variável \"numero\" e atribuímos um valor a ela\n",
        "numero_arredondado = round(numero, 2)  # Arredondamos a variável \"numero\" para 2 casas decimais\n",
        "print(numero_arredondado)  # Saída: 10.68"
      ],
      "metadata": {
        "colab": {
          "base_uri": "https://localhost:8080/"
        },
        "id": "v0hNFk1lmTcI",
        "outputId": "c47d0ade-7dc9-45ad-d768-7445562ad7bc"
      },
      "execution_count": 10,
      "outputs": [
        {
          "output_type": "stream",
          "name": "stdout",
          "text": [
            "11\n",
            "10.68\n"
          ]
        }
      ]
    },
    {
      "cell_type": "markdown",
      "source": [
        "# Instruções para o programa:\n",
        "\n",
        "Se a conta foi de 150 reais, dividida entre 5 pessoas, com 12% de gorjeta.\n",
        "\n",
        "Cada pessoa deve pagar (150 / 5) * 1,12 = 33,6.\n",
        "\n",
        "Formate o resultado para **2 casas decimais** = 33,60.\n",
        "\n",
        "Assim, a parte de cada um da conta total é 30 reais mais uma gorjeta de 3,60.\n"
      ],
      "metadata": {
        "id": "v62K83c0z52k"
      }
    },
    {
      "cell_type": "code",
      "source": [
        "# Exemplo de Entrada\n",
        "\n",
        "# Bem-vindo à calculadora de gorjeta!\n",
        "# Qual foi o total da conta?\n",
        "# Quanto de gorjeta você gostaria de dar? 7, 12 ou 15?\n",
        "# Quantas pessoas para dividir a conta?\n",
        "\n",
        "# Escreva seu código abaixo:\n",
        "\n"
      ],
      "metadata": {
        "id": "F8ncNttIz2jc"
      },
      "execution_count": 11,
      "outputs": []
    },
    {
      "cell_type": "code",
      "execution_count": 12,
      "metadata": {
        "colab": {
          "base_uri": "https://localhost:8080/"
        },
        "id": "2y5KzzsLwM5X",
        "outputId": "ecc9913f-615a-44cf-c9f9-0c59c72d0000"
      },
      "outputs": [
        {
          "output_type": "stream",
          "name": "stdout",
          "text": [
            "Bem-vindo à calculadora de gorjeta!\n",
            "Qual foi o total da conta? R$250\n",
            "Quanto de gorjeta você gostaria de dar? 10, 12 ou 15? 10\n",
            "Quantas pessoas para dividir a conta? 3\n",
            "Cada pessoa deve pagar: R$91.67\n"
          ]
        }
      ],
      "source": [
        "# Solicitando ao usuário o valor total da conta\n",
        "print(\"Bem-vindo à calculadora de gorjeta!\")\n",
        "total_conta = float(input(\"Qual foi o total da conta? R$\")) # Explicar que o float e o input estão juntos\n",
        "\n",
        "# Solicitando ao usuário a porcentagem da gorjeta\n",
        "porcentagem_gorjeta = int(input(\"Quanto de gorjeta você gostaria de dar? 10, 12 ou 15? \")) # Explicar que o int e o input estão juntos\n",
        "\n",
        "# Solicitando ao usuário o número de pessoas para dividir a conta\n",
        "numero_de_pessoas= int(input(\"Quantas pessoas para dividir a conta? \"))# Explicar que o int e o input estão juntos\n",
        "\n",
        "# Calculando o valor da gorjeta, aqui as porcentagens são aplicadas!\n",
        "valor_gorjeta= total_conta * (porcentagem_gorjeta / 100)\n",
        "\n",
        "# Calculando o valor total da conta, incluindo a gorjeta\n",
        "total_com_gorjeta = total_conta + valor_gorjeta\n",
        "\n",
        "# Calculando o valor que cada pessoa deve pagar\n",
        "total_por_pessoa = total_com_gorjeta / numero_de_pessoas\n",
        "final_total = round(total_por_pessoa, 2)\n",
        "\n",
        "# Exibindo o resultado formatado\n",
        "print(f\"Cada pessoa deve pagar: R${final_total}\")"
      ]
    }
  ]
}